{
  "cells": [
    {
      "cell_type": "markdown",
      "metadata": {
        "id": "akEnKM75DlmT"
      },
      "source": [
        "# 주제 설명\n",
        "\n",
        "이 프로젝트는 국내 시구신고 평균소득월액과 기대수명지표를 바탕으로 지역별 평균 소득과 기대수명 간의 상관관계를 분석하는 것이 목표입니다. 이를 바탕으로 지도를 사용한 시각화를 통해 지역 간 격차를 직관적으로 파악할 수 있게 하며, 지역별 정\n",
        "책적 개입 필요성 및 방향성을 도출하는 것을 목적으로 합니다.\n"
      ]
    },
    {
      "cell_type": "markdown",
      "metadata": {
        "id": "iNM5WLe3D39E"
      },
      "source": [
        "# 데이터 수집 방법\n",
        "\n",
        "공공데이터포털에서 국민연금공단*자격 시구신고 평균소득월액과 국민건강보험공단*지역별 기대수명지표를 csv형식으로 받아서 사용했습니다.\n",
        "\n",
        "평균소득월액(https://www.data.go.kr/data/3046077/fileData.do)\n",
        "\n",
        "기대수명지표(https://www.data.go.kr/data/15039778/fileData.do)\n"
      ]
    },
    {
      "cell_type": "markdown",
      "metadata": {
        "id": "tmW530wpE9Uk"
      },
      "source": [
        "# 데이터 설명\n"
      ]
    },
    {
      "cell_type": "code",
      "execution_count": 20,
      "metadata": {
        "id": "cDxcATjyFHZQ"
      },
      "outputs": [],
      "source": [
        "import pandas as pd"
      ]
    },
    {
      "cell_type": "code",
      "execution_count": 21,
      "metadata": {
        "colab": {
          "base_uri": "https://localhost:8080/",
          "height": 206
        },
        "id": "24B2asxvFUuJ",
        "outputId": "fff4f916-8439-442a-ee4d-63929c38bbd1"
      },
      "outputs": [
        {
          "data": {
            "text/html": [
              "<div>\n",
              "<style scoped>\n",
              "    .dataframe tbody tr th:only-of-type {\n",
              "        vertical-align: middle;\n",
              "    }\n",
              "\n",
              "    .dataframe tbody tr th {\n",
              "        vertical-align: top;\n",
              "    }\n",
              "\n",
              "    .dataframe thead th {\n",
              "        text-align: right;\n",
              "    }\n",
              "</style>\n",
              "<table border=\"1\" class=\"dataframe\">\n",
              "  <thead>\n",
              "    <tr style=\"text-align: right;\">\n",
              "      <th></th>\n",
              "      <th>기준년월</th>\n",
              "      <th>시군구</th>\n",
              "      <th>평균소득월액</th>\n",
              "    </tr>\n",
              "  </thead>\n",
              "  <tbody>\n",
              "    <tr>\n",
              "      <th>0</th>\n",
              "      <td>2020-12</td>\n",
              "      <td>서울특별시종로구</td>\n",
              "      <td>1478370</td>\n",
              "    </tr>\n",
              "    <tr>\n",
              "      <th>1</th>\n",
              "      <td>2020-12</td>\n",
              "      <td>서울특별시중구</td>\n",
              "      <td>1477152</td>\n",
              "    </tr>\n",
              "    <tr>\n",
              "      <th>2</th>\n",
              "      <td>2020-12</td>\n",
              "      <td>서울특별시용산구</td>\n",
              "      <td>1561618</td>\n",
              "    </tr>\n",
              "    <tr>\n",
              "      <th>3</th>\n",
              "      <td>2020-12</td>\n",
              "      <td>서울특별시성동구</td>\n",
              "      <td>1501888</td>\n",
              "    </tr>\n",
              "    <tr>\n",
              "      <th>4</th>\n",
              "      <td>2020-12</td>\n",
              "      <td>서울특별시광진구</td>\n",
              "      <td>1392985</td>\n",
              "    </tr>\n",
              "  </tbody>\n",
              "</table>\n",
              "</div>"
            ],
            "text/plain": [
              "      기준년월       시군구   평균소득월액\n",
              "0  2020-12  서울특별시종로구  1478370\n",
              "1  2020-12   서울특별시중구  1477152\n",
              "2  2020-12  서울특별시용산구  1561618\n",
              "3  2020-12  서울특별시성동구  1501888\n",
              "4  2020-12  서울특별시광진구  1392985"
            ]
          },
          "execution_count": 21,
          "metadata": {},
          "output_type": "execute_result"
        }
      ],
      "source": [
        "average_income = pd.read_csv('data/average_income.csv', encoding='cp949')\n",
        "average_income.head()"
      ]
    },
    {
      "cell_type": "markdown",
      "metadata": {
        "id": "kH-o8E7cFes7"
      },
      "source": [
        "average_income.csv는 평균소득월액 관련 데이터입니다. 기준년월, 시군구, 평균소득월액으로 나뉘어져 있습니다.\n",
        "\n",
        "기준년월은 해당 평균소득월액을 조사한 연도 및 월을 의미합니다. 시군구는 해당 평균소득월액을 조사한 지역을 의미합니다. 평균소득월액은 조사 기간 동안 조사 지역에서 1인이 평균적으로 얻은 소득을 의미합니다.\n"
      ]
    },
    {
      "cell_type": "code",
      "execution_count": 22,
      "metadata": {
        "colab": {
          "base_uri": "https://localhost:8080/",
          "height": 310
        },
        "id": "KEqhDimqE-k5",
        "outputId": "fcaa57d9-277e-4bef-ebf6-b0f453597abe"
      },
      "outputs": [
        {
          "data": {
            "text/html": [
              "<div>\n",
              "<style scoped>\n",
              "    .dataframe tbody tr th:only-of-type {\n",
              "        vertical-align: middle;\n",
              "    }\n",
              "\n",
              "    .dataframe tbody tr th {\n",
              "        vertical-align: top;\n",
              "    }\n",
              "\n",
              "    .dataframe thead th {\n",
              "        text-align: right;\n",
              "    }\n",
              "</style>\n",
              "<table border=\"1\" class=\"dataframe\">\n",
              "  <thead>\n",
              "    <tr style=\"text-align: right;\">\n",
              "      <th></th>\n",
              "      <th>지표연도</th>\n",
              "      <th>적용기간</th>\n",
              "      <th>성별</th>\n",
              "      <th>시도</th>\n",
              "      <th>시군구</th>\n",
              "      <th>평균 기대수명</th>\n",
              "      <th>보험료1분위</th>\n",
              "      <th>보험료2분위</th>\n",
              "      <th>보험료3분위</th>\n",
              "      <th>보험료4분위</th>\n",
              "      <th>보험료5분위</th>\n",
              "      <th>기대수명격차</th>\n",
              "    </tr>\n",
              "  </thead>\n",
              "  <tbody>\n",
              "    <tr>\n",
              "      <th>0</th>\n",
              "      <td>2021</td>\n",
              "      <td>1년</td>\n",
              "      <td>남성</td>\n",
              "      <td>전국</td>\n",
              "      <td>전체</td>\n",
              "      <td>81.55</td>\n",
              "      <td>75.85</td>\n",
              "      <td>82.00</td>\n",
              "      <td>82.71</td>\n",
              "      <td>83.63</td>\n",
              "      <td>84.71</td>\n",
              "      <td>8.86</td>\n",
              "    </tr>\n",
              "    <tr>\n",
              "      <th>1</th>\n",
              "      <td>2021</td>\n",
              "      <td>1년</td>\n",
              "      <td>여성</td>\n",
              "      <td>전국</td>\n",
              "      <td>전체</td>\n",
              "      <td>87.66</td>\n",
              "      <td>83.88</td>\n",
              "      <td>87.44</td>\n",
              "      <td>88.29</td>\n",
              "      <td>89.13</td>\n",
              "      <td>90.60</td>\n",
              "      <td>6.73</td>\n",
              "    </tr>\n",
              "    <tr>\n",
              "      <th>2</th>\n",
              "      <td>2021</td>\n",
              "      <td>1년</td>\n",
              "      <td>전체</td>\n",
              "      <td>전국</td>\n",
              "      <td>전체</td>\n",
              "      <td>84.77</td>\n",
              "      <td>79.77</td>\n",
              "      <td>84.86</td>\n",
              "      <td>85.70</td>\n",
              "      <td>86.68</td>\n",
              "      <td>87.93</td>\n",
              "      <td>8.16</td>\n",
              "    </tr>\n",
              "    <tr>\n",
              "      <th>3</th>\n",
              "      <td>2021</td>\n",
              "      <td>4년</td>\n",
              "      <td>남성</td>\n",
              "      <td>서울특별시</td>\n",
              "      <td>전체</td>\n",
              "      <td>82.71</td>\n",
              "      <td>77.88</td>\n",
              "      <td>82.81</td>\n",
              "      <td>83.26</td>\n",
              "      <td>84.74</td>\n",
              "      <td>85.78</td>\n",
              "      <td>7.91</td>\n",
              "    </tr>\n",
              "    <tr>\n",
              "      <th>4</th>\n",
              "      <td>2021</td>\n",
              "      <td>4년</td>\n",
              "      <td>여성</td>\n",
              "      <td>서울특별시</td>\n",
              "      <td>전체</td>\n",
              "      <td>88.53</td>\n",
              "      <td>85.70</td>\n",
              "      <td>88.07</td>\n",
              "      <td>88.61</td>\n",
              "      <td>89.55</td>\n",
              "      <td>91.68</td>\n",
              "      <td>5.98</td>\n",
              "    </tr>\n",
              "  </tbody>\n",
              "</table>\n",
              "</div>"
            ],
            "text/plain": [
              "   지표연도 적용기간  성별     시도 시군구  평균 기대수명  보험료1분위  보험료2분위  보험료3분위  보험료4분위  보험료5분위  \\\n",
              "0  2021   1년  남성     전국  전체    81.55   75.85   82.00   82.71   83.63   84.71   \n",
              "1  2021   1년  여성     전국  전체    87.66   83.88   87.44   88.29   89.13   90.60   \n",
              "2  2021   1년  전체     전국  전체    84.77   79.77   84.86   85.70   86.68   87.93   \n",
              "3  2021   4년  남성  서울특별시  전체    82.71   77.88   82.81   83.26   84.74   85.78   \n",
              "4  2021   4년  여성  서울특별시  전체    88.53   85.70   88.07   88.61   89.55   91.68   \n",
              "\n",
              "   기대수명격차  \n",
              "0    8.86  \n",
              "1    6.73  \n",
              "2    8.16  \n",
              "3    7.91  \n",
              "4    5.98  "
            ]
          },
          "execution_count": 22,
          "metadata": {},
          "output_type": "execute_result"
        }
      ],
      "source": [
        "life_expectancy = pd.read_csv('data/life_expectancy.csv', encoding='cp949')\n",
        "life_expectancy.head()"
      ]
    },
    {
      "cell_type": "markdown",
      "metadata": {
        "id": "ZGKNgiLWFtMz"
      },
      "source": [
        "life_expectancy.csv는 기대수명지표 관련 데이터입니다. 지표연도, 적용기간, 성별, 시도, 시군구, 평균 기대수명, 보험료1분위, 보험료2분위, 보험료3분위, 보험료4분위, 보험료5분위, 보험료6분위로 나뉘어져 있습니다.\n",
        "\n",
        "지표연도는 해당 데이터를 조사한 연도입니다. 적용기간은 전국 단위, 시도 단위, 시군구 단위에 따라 다르게 활용된 기간입니다. 성별은 해당 데이터 조사 대상의 성별을 의미합니다. 시도는 해당 조사에 대상이 되는 지역을 시도 단위로 나타낸 것입니다. 시군구는 해당 조사에 대상이 되는 지역을 시군구 단위로 나타낸 것입니다. 평균 기대수명은 단위 기간 동안 어떤 지역에서 특정 성별이 평균적으로 몇세에 사망하였는지 나타냅니다. 보험료 N분위는 소득에 따라 달라지는 보험료 납부자에 대한 평균 수명을 나타낸 것으로 N이 커질수록 고소득 및 고액 납부자에 해당합니다.\n"
      ]
    },
    {
      "cell_type": "markdown",
      "metadata": {
        "id": "1SXyeSZzGEQQ"
      },
      "source": [
        "우선 기준연도를 정해 기준년월의 연도와 지표연도의 연도를 맞추어 줘야 합니다, 이후, 시군구를 같은 형태로 맞추어 주어야 비교가 가능하기에 해당 작업을 실행해 주어야 합니다.\n"
      ]
    },
    {
      "cell_type": "code",
      "execution_count": 23,
      "metadata": {},
      "outputs": [
        {
          "data": {
            "text/html": [
              "<div>\n",
              "<style scoped>\n",
              "    .dataframe tbody tr th:only-of-type {\n",
              "        vertical-align: middle;\n",
              "    }\n",
              "\n",
              "    .dataframe tbody tr th {\n",
              "        vertical-align: top;\n",
              "    }\n",
              "\n",
              "    .dataframe thead th {\n",
              "        text-align: right;\n",
              "    }\n",
              "</style>\n",
              "<table border=\"1\" class=\"dataframe\">\n",
              "  <thead>\n",
              "    <tr style=\"text-align: right;\">\n",
              "      <th></th>\n",
              "      <th>기준년월</th>\n",
              "      <th>시군구</th>\n",
              "      <th>평균소득월액</th>\n",
              "    </tr>\n",
              "  </thead>\n",
              "  <tbody>\n",
              "    <tr>\n",
              "      <th>0</th>\n",
              "      <td>2020-12</td>\n",
              "      <td>서울특별시종로구</td>\n",
              "      <td>1478370</td>\n",
              "    </tr>\n",
              "    <tr>\n",
              "      <th>1</th>\n",
              "      <td>2020-12</td>\n",
              "      <td>서울특별시중구</td>\n",
              "      <td>1477152</td>\n",
              "    </tr>\n",
              "    <tr>\n",
              "      <th>2</th>\n",
              "      <td>2020-12</td>\n",
              "      <td>서울특별시용산구</td>\n",
              "      <td>1561618</td>\n",
              "    </tr>\n",
              "    <tr>\n",
              "      <th>3</th>\n",
              "      <td>2020-12</td>\n",
              "      <td>서울특별시성동구</td>\n",
              "      <td>1501888</td>\n",
              "    </tr>\n",
              "    <tr>\n",
              "      <th>4</th>\n",
              "      <td>2020-12</td>\n",
              "      <td>서울특별시광진구</td>\n",
              "      <td>1392985</td>\n",
              "    </tr>\n",
              "    <tr>\n",
              "      <th>...</th>\n",
              "      <td>...</td>\n",
              "      <td>...</td>\n",
              "      <td>...</td>\n",
              "    </tr>\n",
              "    <tr>\n",
              "      <th>1145</th>\n",
              "      <td>2024-12</td>\n",
              "      <td>경상남도함양군</td>\n",
              "      <td>1361140</td>\n",
              "    </tr>\n",
              "    <tr>\n",
              "      <th>1146</th>\n",
              "      <td>2024-12</td>\n",
              "      <td>경상남도거창군</td>\n",
              "      <td>1379363</td>\n",
              "    </tr>\n",
              "    <tr>\n",
              "      <th>1147</th>\n",
              "      <td>2024-12</td>\n",
              "      <td>경상남도합천군</td>\n",
              "      <td>1366202</td>\n",
              "    </tr>\n",
              "    <tr>\n",
              "      <th>1148</th>\n",
              "      <td>2024-12</td>\n",
              "      <td>제주특별자치도제주시</td>\n",
              "      <td>1407793</td>\n",
              "    </tr>\n",
              "    <tr>\n",
              "      <th>1149</th>\n",
              "      <td>2024-12</td>\n",
              "      <td>제주특별자치도서귀포시</td>\n",
              "      <td>1376820</td>\n",
              "    </tr>\n",
              "  </tbody>\n",
              "</table>\n",
              "<p>1150 rows × 3 columns</p>\n",
              "</div>"
            ],
            "text/plain": [
              "         기준년월          시군구   평균소득월액\n",
              "0     2020-12     서울특별시종로구  1478370\n",
              "1     2020-12      서울특별시중구  1477152\n",
              "2     2020-12     서울특별시용산구  1561618\n",
              "3     2020-12     서울특별시성동구  1501888\n",
              "4     2020-12     서울특별시광진구  1392985\n",
              "...       ...          ...      ...\n",
              "1145  2024-12      경상남도함양군  1361140\n",
              "1146  2024-12      경상남도거창군  1379363\n",
              "1147  2024-12      경상남도합천군  1366202\n",
              "1148  2024-12   제주특별자치도제주시  1407793\n",
              "1149  2024-12  제주특별자치도서귀포시  1376820\n",
              "\n",
              "[1150 rows x 3 columns]"
            ]
          },
          "execution_count": 23,
          "metadata": {},
          "output_type": "execute_result"
        }
      ],
      "source": [
        "average_income"
      ]
    },
    {
      "cell_type": "code",
      "execution_count": 24,
      "metadata": {},
      "outputs": [],
      "source": [
        "average_income = average_income[average_income['기준년월'] == '2021-12']"
      ]
    },
    {
      "cell_type": "code",
      "execution_count": 25,
      "metadata": {},
      "outputs": [
        {
          "data": {
            "text/html": [
              "<div>\n",
              "<style scoped>\n",
              "    .dataframe tbody tr th:only-of-type {\n",
              "        vertical-align: middle;\n",
              "    }\n",
              "\n",
              "    .dataframe tbody tr th {\n",
              "        vertical-align: top;\n",
              "    }\n",
              "\n",
              "    .dataframe thead th {\n",
              "        text-align: right;\n",
              "    }\n",
              "</style>\n",
              "<table border=\"1\" class=\"dataframe\">\n",
              "  <thead>\n",
              "    <tr style=\"text-align: right;\">\n",
              "      <th></th>\n",
              "      <th>기준년월</th>\n",
              "      <th>시군구</th>\n",
              "      <th>평균소득월액</th>\n",
              "    </tr>\n",
              "  </thead>\n",
              "  <tbody>\n",
              "    <tr>\n",
              "      <th>230</th>\n",
              "      <td>2021-12</td>\n",
              "      <td>서울특별시종로구</td>\n",
              "      <td>1495060</td>\n",
              "    </tr>\n",
              "    <tr>\n",
              "      <th>231</th>\n",
              "      <td>2021-12</td>\n",
              "      <td>서울특별시중구</td>\n",
              "      <td>1510626</td>\n",
              "    </tr>\n",
              "    <tr>\n",
              "      <th>232</th>\n",
              "      <td>2021-12</td>\n",
              "      <td>서울특별시용산구</td>\n",
              "      <td>1566339</td>\n",
              "    </tr>\n",
              "    <tr>\n",
              "      <th>233</th>\n",
              "      <td>2021-12</td>\n",
              "      <td>서울특별시성동구</td>\n",
              "      <td>1523531</td>\n",
              "    </tr>\n",
              "    <tr>\n",
              "      <th>234</th>\n",
              "      <td>2021-12</td>\n",
              "      <td>서울특별시광진구</td>\n",
              "      <td>1408562</td>\n",
              "    </tr>\n",
              "    <tr>\n",
              "      <th>...</th>\n",
              "      <td>...</td>\n",
              "      <td>...</td>\n",
              "      <td>...</td>\n",
              "    </tr>\n",
              "    <tr>\n",
              "      <th>455</th>\n",
              "      <td>2021-12</td>\n",
              "      <td>경상남도함양군</td>\n",
              "      <td>1265493</td>\n",
              "    </tr>\n",
              "    <tr>\n",
              "      <th>456</th>\n",
              "      <td>2021-12</td>\n",
              "      <td>경상남도거창군</td>\n",
              "      <td>1301606</td>\n",
              "    </tr>\n",
              "    <tr>\n",
              "      <th>457</th>\n",
              "      <td>2021-12</td>\n",
              "      <td>경상남도합천군</td>\n",
              "      <td>1287646</td>\n",
              "    </tr>\n",
              "    <tr>\n",
              "      <th>458</th>\n",
              "      <td>2021-12</td>\n",
              "      <td>제주특별자치도제주시</td>\n",
              "      <td>1368049</td>\n",
              "    </tr>\n",
              "    <tr>\n",
              "      <th>459</th>\n",
              "      <td>2021-12</td>\n",
              "      <td>제주특별자치도서귀포시</td>\n",
              "      <td>1343801</td>\n",
              "    </tr>\n",
              "  </tbody>\n",
              "</table>\n",
              "<p>230 rows × 3 columns</p>\n",
              "</div>"
            ],
            "text/plain": [
              "        기준년월          시군구   평균소득월액\n",
              "230  2021-12     서울특별시종로구  1495060\n",
              "231  2021-12      서울특별시중구  1510626\n",
              "232  2021-12     서울특별시용산구  1566339\n",
              "233  2021-12     서울특별시성동구  1523531\n",
              "234  2021-12     서울특별시광진구  1408562\n",
              "..       ...          ...      ...\n",
              "455  2021-12      경상남도함양군  1265493\n",
              "456  2021-12      경상남도거창군  1301606\n",
              "457  2021-12      경상남도합천군  1287646\n",
              "458  2021-12   제주특별자치도제주시  1368049\n",
              "459  2021-12  제주특별자치도서귀포시  1343801\n",
              "\n",
              "[230 rows x 3 columns]"
            ]
          },
          "execution_count": 25,
          "metadata": {},
          "output_type": "execute_result"
        }
      ],
      "source": [
        "average_income"
      ]
    },
    {
      "cell_type": "markdown",
      "metadata": {},
      "source": [
        "기대수명 지표가 2021년 기준이기 때문에 평균소득 수준 지표도 2021년으로 맞춰주었습니다. 이제 결측치를 확인해보도록 하겠습니다.\n"
      ]
    },
    {
      "cell_type": "markdown",
      "metadata": {},
      "source": [
        "# 결측치 확인\n"
      ]
    },
    {
      "cell_type": "code",
      "execution_count": 26,
      "metadata": {},
      "outputs": [
        {
          "name": "stdout",
          "output_type": "stream",
          "text": [
            "기준년월      0\n",
            "시군구       0\n",
            "평균소득월액    0\n",
            "dtype: int64\n"
          ]
        }
      ],
      "source": [
        "print(average_income.isnull().sum())"
      ]
    },
    {
      "cell_type": "code",
      "execution_count": 27,
      "metadata": {},
      "outputs": [
        {
          "name": "stdout",
          "output_type": "stream",
          "text": [
            "지표연도       0\n",
            "적용기간       0\n",
            "성별         0\n",
            "시도         0\n",
            "시군구        0\n",
            "평균 기대수명    0\n",
            "보험료1분위     0\n",
            "보험료2분위     0\n",
            "보험료3분위     0\n",
            "보험료4분위     0\n",
            "보험료5분위     0\n",
            "기대수명격차     0\n",
            "dtype: int64\n"
          ]
        }
      ],
      "source": [
        "print(life_expectancy.isnull().sum())"
      ]
    },
    {
      "cell_type": "markdown",
      "metadata": {},
      "source": [
        "평균소득 수준 지표와 기대수명 지표 모두 결측치가 없는 것을 확인할 수 있습니다.\n"
      ]
    }
  ],
  "metadata": {
    "colab": {
      "provenance": []
    },
    "kernelspec": {
      "display_name": "Python 3",
      "name": "python3"
    },
    "language_info": {
      "codemirror_mode": {
        "name": "ipython",
        "version": 3
      },
      "file_extension": ".py",
      "mimetype": "text/x-python",
      "name": "python",
      "nbconvert_exporter": "python",
      "pygments_lexer": "ipython3",
      "version": "3.9.6"
    }
  },
  "nbformat": 4,
  "nbformat_minor": 0
}
